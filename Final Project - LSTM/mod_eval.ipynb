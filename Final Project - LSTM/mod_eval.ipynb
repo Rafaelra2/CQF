{
 "cells": [
  {
   "attachments": {},
   "cell_type": "markdown",
   "metadata": {},
   "source": [
    "# Model Evaluation"
   ]
  },
  {
   "cell_type": "markdown",
   "metadata": {},
   "source": [
    "Given the predictions and the evalution functions, I compute the main Results for:\n",
    "\n",
    "- LSTM: 1 Hidden Layer no Tunning\n",
    "- LSTM: 2 Hidden Layer no Tunning\n",
    "- LSTM: 3 Hidden Layer no Tunning\n",
    "#\n",
    "- LSTM: 1 Hidden Layer with Tunning\n",
    "- LSTM: 2 Hidden Layer with Tunning\n",
    "- LSTM: 2 Hidden Layer with Tunning\n",
    "\n",
    "I also compute the **Trading strategy**."
   ]
  },
  {
   "cell_type": "code",
   "execution_count": null,
   "metadata": {},
   "outputs": [],
   "source": [
    "# Install Requirements\n",
    "%pip install -r ../requirements.txt"
   ]
  },
  {
   "cell_type": "markdown",
   "metadata": {},
   "source": [
    "### Import Other Libs"
   ]
  },
  {
   "cell_type": "code",
   "execution_count": null,
   "metadata": {},
   "outputs": [],
   "source": [
    "## Import Auxiliary Functions\n",
    "from aux_functions import *\n",
    "\n",
    "from sklearn.model_selection import train_test_split"
   ]
  },
  {
   "cell_type": "markdown",
   "metadata": {},
   "source": [
    "### Load Data\n",
    "\n"
   ]
  },
  {
   "cell_type": "code",
   "execution_count": null,
   "metadata": {},
   "outputs": [],
   "source": [
    "## Random\n",
    "random = 10\n",
    "set_seeds(seed=random)\n",
    "\n",
    "## Lookback\n",
    "seqlen  = pd.read_csv('../Output/Variables/seqlen.csv', header=None).iloc[0, 0]\n",
    "\n",
    "## Load Data frame\n",
    "df = pd.read_csv('../../Input/feat_final.csv', index_col=0)\n",
    "\n",
    "## Set Features and Target Variable\n",
    "X, y = df.iloc[:,:-1].values, df.iloc[:,-1].values\n",
    "\n",
    "\n",
    "## Split data into training and testing\n",
    "X_train, X_test, y_train, y_test = train_test_split(X, y, test_size=0.2, random_state=random, shuffle=False)  \n",
    "\n",
    "## Remove\n",
    "del df, X, y, X_train, X_test"
   ]
  },
  {
   "cell_type": "markdown",
   "metadata": {},
   "source": [
    "### 1.1 - LSTM with 1 Hidden Layer and no Tuning\n"
   ]
  },
  {
   "cell_type": "code",
   "execution_count": null,
   "metadata": {},
   "outputs": [],
   "source": [
    "## Load dataset\n",
    "ypred_train = pd.read_csv('../Output/Variables/m11_ypred_train.csv')\n",
    "ypred_test  = pd.read_csv('../Output/Variables/m11_ypred_test.csv')\n",
    "yprob       = pd.read_csv('../Output/Variables/m11_yprob.csv')\n",
    "\n",
    "## Get Accuracy train\n",
    "get_accuracy_train(y_train[seqlen:], ypred_train)\n",
    "\n",
    "## Get Accuracy test\n",
    "get_accuracy_test(y_test[seqlen:], ypred_test)\n",
    "\n",
    "## Get Classification Report\n",
    "get_classification_report(y_test[seqlen:], ypred_test)\n",
    "\n",
    " ## Plot Confusion Matrix and ROC\n",
    "plot_findings(y_test[seqlen:], ypred_test, yprob, '../Plot/Findings/M11.pdf')\n"
   ]
  },
  {
   "cell_type": "markdown",
   "metadata": {},
   "source": [
    "### 1.2 - LSTM with 1 Hidden Layer + Tuning"
   ]
  },
  {
   "cell_type": "code",
   "execution_count": null,
   "metadata": {},
   "outputs": [],
   "source": [
    "ypred_train = pd.read_csv('../Output/Variables/m12_ypred_train.csv')\n",
    "ypred_test  = pd.read_csv('../Output/Variables/m12_ypred_test.csv')\n",
    "yprob       = pd.read_csv('../Output/Variables/m12_yprob.csv')\n",
    "\n",
    "## Get Accuracy train\n",
    "get_accuracy_train(y_train[seqlen:], ypred_train)\n",
    "\n",
    "## Get Accuracy test\n",
    "get_accuracy_test(y_test[seqlen:], ypred_test)\n",
    "\n",
    "## Get Classification Report\n",
    "get_classification_report(y_test[seqlen:], ypred_test)\n",
    "\n",
    " ## Plot Confusion Matrix and ROC\n",
    "plot_findings(y_test[seqlen:], ypred_test, yprob, '../Plot/Findings/M12.pdf')\n",
    "\n",
    "## Save Best prediction Model\n",
    "ypred_final =  ypred_test"
   ]
  },
  {
   "cell_type": "markdown",
   "metadata": {},
   "source": [
    "### 2.1 - LSTM with 2 Hidden Layers and no Tuning"
   ]
  },
  {
   "cell_type": "code",
   "execution_count": null,
   "metadata": {},
   "outputs": [],
   "source": [
    "## Load dataset\n",
    "ypred_train = pd.read_csv('../Output/Variables/m21_ypred_train.csv')\n",
    "ypred_test  = pd.read_csv('../Output/Variables/m21_ypred_test.csv')\n",
    "yprob       = pd.read_csv('../Output/Variables/m21_yprob.csv')\n",
    "\n",
    "## Get Accuracy train\n",
    "get_accuracy_train(y_train[seqlen:], ypred_train)\n",
    "\n",
    "## Get Accuracy test\n",
    "get_accuracy_test(y_test[seqlen:], ypred_test)\n",
    "\n",
    "## Get Classification Report\n",
    "get_classification_report(y_test[seqlen:], ypred_test)\n",
    "\n",
    " ## Plot Confusion Matrix and ROC\n",
    "plot_findings(y_test[seqlen:], ypred_test, yprob, '../Plot/Findings/M21.pdf')\n"
   ]
  },
  {
   "cell_type": "markdown",
   "metadata": {},
   "source": [
    "### 2.2 - LSTM with 1 Hidden Layers + Tuning"
   ]
  },
  {
   "cell_type": "code",
   "execution_count": null,
   "metadata": {},
   "outputs": [],
   "source": [
    "ypred_train = pd.read_csv('../Output/Variables/m22_ypred_train.csv')\n",
    "ypred_test  = pd.read_csv('../Output/Variables/m22_ypred_test.csv')\n",
    "yprob       = pd.read_csv('../Output/Variables/m22_yprob.csv')\n",
    "\n",
    "## Get Accuracy train\n",
    "get_accuracy_train(y_train[seqlen:], ypred_train)\n",
    "\n",
    "## Get Accuracy test\n",
    "get_accuracy_test(y_test[seqlen:], ypred_test)\n",
    "\n",
    "## Get Classification Report\n",
    "get_classification_report(y_test[seqlen:], ypred_test)\n",
    "\n",
    " ## Plot Confusion Matrix and ROC\n",
    "plot_findings(y_test[seqlen:], ypred_test, yprob, '../Plot/Findings/M22.pdf')"
   ]
  },
  {
   "cell_type": "markdown",
   "metadata": {},
   "source": [
    "### 3.1 - LSTM with 3 Hidden Layers and no Tuning"
   ]
  },
  {
   "cell_type": "code",
   "execution_count": null,
   "metadata": {},
   "outputs": [],
   "source": [
    "## Load dataset\n",
    "ypred_train = pd.read_csv('../Output/Variables/m31_ypred_train.csv')\n",
    "ypred_test  = pd.read_csv('../Output/Variables/m31_ypred_test.csv')\n",
    "yprob       = pd.read_csv('../Output/Variables/m31_yprob.csv')\n",
    "\n",
    "## Get Accuracy train\n",
    "get_accuracy_train(y_train[seqlen:], ypred_train)\n",
    "\n",
    "## Get Accuracy test\n",
    "get_accuracy_test(y_test[seqlen:], ypred_test)\n",
    "\n",
    "## Get Classification Report\n",
    "get_classification_report(y_test[seqlen:], ypred_test)\n",
    "\n",
    " ## Plot Confusion Matrix and ROC\n",
    "plot_findings(y_test[seqlen:], ypred_test, yprob, '../Plot/Findings/M31.pdf')"
   ]
  },
  {
   "cell_type": "markdown",
   "metadata": {},
   "source": [
    "### 3.2 - LSTM with 3 Hidden Layers + Tuning"
   ]
  },
  {
   "cell_type": "code",
   "execution_count": null,
   "metadata": {},
   "outputs": [],
   "source": [
    "ypred_train = pd.read_csv('../Output/Variables/m32_ypred_train.csv')\n",
    "ypred_test  = pd.read_csv('../Output/Variables/m32_ypred_test.csv')\n",
    "yprob       = pd.read_csv('../Output/Variables/m32_yprob.csv')\n",
    "\n",
    "## Get Accuracy train\n",
    "get_accuracy_train(y_train[seqlen:], ypred_train)\n",
    "\n",
    "## Get Accuracy test\n",
    "get_accuracy_test(y_test[seqlen:], ypred_test)\n",
    "\n",
    "## Get Classification Report\n",
    "get_classification_report(y_test[seqlen:], ypred_test)\n",
    "\n",
    " ## Plot Confusion Matrix and ROC\n",
    "plot_findings(y_test[seqlen:], ypred_test, yprob, '../Plot/Findings/M32.pdf')"
   ]
  },
  {
   "cell_type": "markdown",
   "metadata": {},
   "source": [
    "## Trading Strategy\n",
    "\n",
    "Long only Strategy, with a daily rebalancement and Cash:\n",
    "\n",
    "- For each day, buy ACWI if there is a positive signal. \n",
    "\n",
    "- If at the end of the day, there is another positive sign you hold it. Otherwise, you sell all asset and buy Cash (BIL ETF)"
   ]
  },
  {
   "cell_type": "code",
   "execution_count": null,
   "metadata": {},
   "outputs": [],
   "source": [
    "## Load Cash (BIL)\n",
    "bil = pd.read_csv('../../Input/bil.csv', index_col=0, parse_dates=True)[-(len(ypred_final)+1):] \n",
    "\n",
    "## Load ACWI\n",
    "df1 = pd.read_csv('../../Input/acwi.csv', index_col=0, parse_dates=True)[-(len(ypred_final)+1):] \n",
    "\n",
    "## Calculate Returns\n",
    "df1['ACWI'] = np.log(df1['close']).diff().fillna(0)\n",
    "df1['BIL']  = np.log(bil).diff().fillna(0)\n",
    "\n",
    "## Drop\n",
    "df1 = df1.drop(columns=['close'] ) # Close\n",
    "df1 = df1.iloc[1:] # first row\n",
    "\n",
    "## Guarantee index\n",
    "index = pd.to_datetime(df1.index).normalize()\n",
    "\n",
    "## Add strategy\n",
    "df1 = df1.reset_index(drop=True)\n",
    "ypred_final = ypred_final.reset_index(drop=True)\n",
    "df1['Signal'] = ypred_final['0']\n",
    "\n",
    "## Adjust index\n",
    "df1.index = index\n",
    "del bil, index # bil\n",
    "\n",
    "## Trade strategy\n",
    "df1['Trade'] = 0\n",
    "\n",
    "for i in range(1, len(df1)):\n",
    "    current_index = df1.index[i]\n",
    "    previous_index = df1.index[i - 1]\n",
    "\n",
    "    if df1.loc[previous_index, 'Signal'] == 1:\n",
    "        df1.loc[current_index, 'Trade'] = df1.loc[current_index, 'ACWI']\n",
    "    else:\n",
    "        df1.loc[current_index, 'Trade'] = df1.loc[current_index, 'BIL']\n"
   ]
  },
  {
   "cell_type": "markdown",
   "metadata": {},
   "source": [
    "#### Tearsheet"
   ]
  },
  {
   "cell_type": "code",
   "execution_count": null,
   "metadata": {},
   "outputs": [],
   "source": [
    "## Trading Evaluation \n",
    "import quantstats as qs\n",
    "\n",
    "qs.reports.full( df1['Trade'], benchmark=df1['ACWI'] )\n",
    "#qs.reports.html( df1['Trade'], benchmark=df1['ACWI'] )"
   ]
  }
 ],
 "metadata": {
  "kernelspec": {
   "display_name": "env",
   "language": "python",
   "name": "python3"
  },
  "language_info": {
   "codemirror_mode": {
    "name": "ipython",
    "version": 3
   },
   "file_extension": ".py",
   "mimetype": "text/x-python",
   "name": "python",
   "nbconvert_exporter": "python",
   "pygments_lexer": "ipython3",
   "version": "3.8.10"
  },
  "orig_nbformat": 4,
  "vscode": {
   "interpreter": {
    "hash": "188775c9ea53fc35b016103c82c46ac82e09a5f3430e273dbc1240ad0d8f2a3d"
   }
  }
 },
 "nbformat": 4,
 "nbformat_minor": 2
}
